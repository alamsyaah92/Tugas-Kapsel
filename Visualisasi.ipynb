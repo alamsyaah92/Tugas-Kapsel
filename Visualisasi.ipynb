{
  "nbformat": 4,
  "nbformat_minor": 0,
  "metadata": {
    "colab": {
      "name": "Visualisasi.ipynb",
      "provenance": [],
      "collapsed_sections": [],
      "include_colab_link": true
    },
    "kernelspec": {
      "name": "python3",
      "display_name": "Python 3"
    },
    "language_info": {
      "name": "python"
    }
  },
  "cells": [
    {
      "cell_type": "markdown",
      "metadata": {
        "id": "view-in-github",
        "colab_type": "text"
      },
      "source": [
        "<a href=\"https://colab.research.google.com/github/alamsyaah92/Tugas-Kapsel/blob/main/Visualisasi.ipynb\" target=\"_parent\"><img src=\"https://colab.research.google.com/assets/colab-badge.svg\" alt=\"Open In Colab\"/></a>"
      ]
    },
    {
      "cell_type": "markdown",
      "metadata": {
        "id": "Xr2eaH7iNTZ-"
      },
      "source": [
        "**interpretasi**"
      ]
    },
    {
      "cell_type": "code",
      "metadata": {
        "colab": {
          "base_uri": "https://localhost:8080/"
        },
        "id": "piG3jhKTWam-",
        "outputId": "11da695c-e254-4569-8210-e5b570e6a629"
      },
      "source": [
        "from google.colab import drive\n",
        "drive.mount('/content/drive')"
      ],
      "execution_count": null,
      "outputs": [
        {
          "output_type": "stream",
          "name": "stdout",
          "text": [
            "Drive already mounted at /content/drive; to attempt to forcibly remount, call drive.mount(\"/content/drive\", force_remount=True).\n"
          ]
        }
      ]
    },
    {
      "cell_type": "code",
      "metadata": {
        "colab": {
          "base_uri": "https://localhost:8080/",
          "height": 345
        },
        "id": "krCrwU8mW3Oi",
        "outputId": "ef2d3710-333e-4980-a591-91ffe919ac2c"
      },
      "source": [
        "%%html\n",
        "<iframe src= \"https://drive.google.com/file/d/1mB3-qnom2_eumOb8dAR9PDvDrCUVQqZO/preview\" width=\"480\" height=\"320\" allow=\"autoplay\"></iframe>"
      ],
      "execution_count": null,
      "outputs": [
        {
          "output_type": "display_data",
          "data": {
            "text/html": [
              "<iframe src= \"https://drive.google.com/file/d/1mB3-qnom2_eumOb8dAR9PDvDrCUVQqZO/preview\" width=\"480\" height=\"320\" allow=\"autoplay\"></iframe>"
            ],
            "text/plain": [
              "<IPython.core.display.HTML object>"
            ]
          },
          "metadata": {}
        }
      ]
    },
    {
      "cell_type": "code",
      "metadata": {
        "colab": {
          "base_uri": "https://localhost:8080/",
          "height": 345
        },
        "id": "qlfKRJ0Taecy",
        "outputId": "c8433f5d-264c-486c-c0f0-65420f730ddc"
      },
      "source": [
        "%%html\n",
        "<iframe src= \"https://drive.google.com/file/d/1TU87wkBv66akbGqDq7bpbqSVYsitr53e/preview\" width=\"480\" height=\"320\" allow=\"autoplay\"></iframe>"
      ],
      "execution_count": null,
      "outputs": [
        {
          "output_type": "display_data",
          "data": {
            "text/html": [
              "<iframe src= \"https://drive.google.com/file/d/1TU87wkBv66akbGqDq7bpbqSVYsitr53e/preview\" width=\"480\" height=\"320\" allow=\"autoplay\"></iframe>"
            ],
            "text/plain": [
              "<IPython.core.display.HTML object>"
            ]
          },
          "metadata": {}
        }
      ]
    },
    {
      "cell_type": "code",
      "metadata": {
        "colab": {
          "base_uri": "https://localhost:8080/",
          "height": 345
        },
        "id": "y_QboitIazDh",
        "outputId": "11b85491-b5d6-4ce4-af78-24cfe1f7cc4c"
      },
      "source": [
        "%%html\n",
        "<iframe src= \"https://drive.google.com/file/d/1UiwRW7fNMVEehjlcUvYIceWqZjbyuZZc/preview\" width=\"480\" height=\"320\" allow=\"autoplay\"></iframe>"
      ],
      "execution_count": null,
      "outputs": [
        {
          "output_type": "display_data",
          "data": {
            "text/html": [
              "<iframe src= \"https://drive.google.com/file/d/1UiwRW7fNMVEehjlcUvYIceWqZjbyuZZc/preview\" width=\"480\" height=\"320\" allow=\"autoplay\"></iframe>"
            ],
            "text/plain": [
              "<IPython.core.display.HTML object>"
            ]
          },
          "metadata": {}
        }
      ]
    },
    {
      "cell_type": "markdown",
      "metadata": {
        "id": "0djfIHd1PcYA"
      },
      "source": [
        "Dilihat dari 2 gambar diatas bisa dilihat jika \"open\", \"indonesia\", \"denmark\", dan \"french\" menduduki peringkat penggunaan kata paling banyak. Ini menandakan kata-kata itu sedang ramai dibicarakan , orang-orang antusias pada event bulutangkis yang sedang berlangsung seperti indonesia open, denmark open, dan french open."
      ]
    }
  ]
}